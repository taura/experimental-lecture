{
  "cells": [
    {
      "cell_type": "markdown",
      "metadata": {
        "kernel": "SoS",
        "nbgrader": {
          "grade": false,
          "grade_id": "c-001",
          "locked": true,
          "schema_version": 3,
          "solution": false,
          "task": false
        }
      },
      "source": [
        "\n",
        "#  オペレーティングシステム 演習環境",
        "\n",
        "#  Programming Languages Hands-on Environment",
        ""
      ]
    },
    {
      "cell_type": "markdown",
      "metadata": {
        "kernel": "SoS",
        "nbgrader": {
          "grade": false,
          "grade_id": "c-002",
          "locked": false,
          "schema_version": 3,
          "solution": false,
          "task": false
        }
      },
      "source": [
        "\n",
        "名前と学生証番号を書け. Enter your name and student ID.\n",
        "\n",
        " * 名前 Name:\n",
        " * 学生証番号 Student ID:\n",
        ""
      ]
    },
    {
      "cell_type": "markdown",
      "metadata": {
        "kernel": "SoS",
        "nbgrader": {
          "grade": false,
          "grade_id": "c-003",
          "locked": true,
          "schema_version": 3,
          "solution": false,
          "task": false
        }
      },
      "source": [
        "\n",
        "# 1. このnotebookの使い方 / How this notebook works"
      ]
    },
    {
      "cell_type": "markdown",
      "metadata": {
        "kernel": "SoS",
        "nbgrader": {
          "grade": false,
          "grade_id": "c-004",
          "locked": true,
          "schema_version": 3,
          "solution": false,
          "task": false
        }
      },
      "source": [
        "## 1-1. セル / Cell",
        "\n",
        "* 以下のような入力欄を「セル」という\n",
        "* SHIFT+ENTERで実行できる\n",
        "<br/>\n",
        "\n",
        "* A textbox like below is called a \"cell\"\n",
        "* Press SHIFT+ENTER to execute it\n",
        ""
      ]
    },
    {
      "cell_type": "markdown",
      "metadata": {
        "kernel": "SoS",
        "nbgrader": {
          "grade": false,
          "grade_id": "c-005",
          "locked": true,
          "schema_version": 3,
          "solution": false,
          "task": false
        }
      },
      "source": [
        "## 1-2. Python"
      ]
    },
    {
      "cell_type": "code",
      "metadata": {
        "kernel": "Python 3 (ipykernel)",
        "nbgrader": {
          "grade": false,
          "grade_id": "c-006",
          "locked": false,
          "schema_version": 3,
          "solution": false,
          "task": false
        }
      },
      "source": [
        "def f(x):\n",
        "  return x + 1\n",
        "\n",
        "f(3)"
      ],
      "execution_count": null,
      "outputs": []
    },
    {
      "cell_type": "markdown",
      "metadata": {
        "kernel": "SoS",
        "nbgrader": {
          "grade": false,
          "grade_id": "c-007",
          "locked": true,
          "schema_version": 3,
          "solution": false,
          "task": false
        }
      },
      "source": [
        "* 実行中のセルは, 左に`[*]`と表示され, 終了すると`[2]`のような番号に変わる\n",
        "* `[*]`が表示されている間は他のセルを実行できないことを覚えておこう\n",
        "* 以下のセルを実行して`[*]`を観察しておくこと\n",
        "<br/>\n",
        "\n",
        "* while a cell is executing, `[*]` is shown on the left, which turns into a number like `[2]`\n",
        "* remember that you cannot execute other cells while `[*]` is shown\n",
        "* execute the cell below and observe `[*]`\n",
        ""
      ]
    },
    {
      "cell_type": "code",
      "metadata": {
        "kernel": "Python 3 (ipykernel)",
        "nbgrader": {
          "grade": false,
          "grade_id": "c-008",
          "locked": false,
          "schema_version": 3,
          "solution": false,
          "task": false
        }
      },
      "source": [
        "import time\n",
        "time.sleep(5.0)"
      ],
      "execution_count": null,
      "outputs": []
    },
    {
      "cell_type": "markdown",
      "metadata": {
        "kernel": "SoS",
        "nbgrader": {
          "grade": false,
          "grade_id": "c-009",
          "locked": true,
          "schema_version": 3,
          "solution": false,
          "task": false
        }
      },
      "source": [
        "* 実行中のセルを途中で止めたければタブ上部の■ボタンで止められることにはなっているが効かないことも多い\n",
        "* その場合は, メニューの Kernel -&gt; Restart Kernel として **カーネルのリセット** をする\n",
        "* より強力なリセット方法はメニューの File -&gt; Hub Control Panel -&gt; Stop Server ->&gt; Start Server として**サーバの再起動** をする\n",
        "* 以下を実行し, 終了する前に■ボタンで止めてみよ\n",
        "* カーネルのリセット, サーバの再起動も試してみよ\n",
        "<br/>\n",
        "\n",
        "* you should be able to stop an executing cell by ■ button at top of the tab, but do not expect it to work reliably\n",
        "* if it doesn't work, **reset kernel** by going to menu and selecting Kernel -&gt; Restart Kernel\n",
        "* even more powerful method to reset everything is to **restart the server** by going to menu and selecting File -&gt; Hub Control Panel -&gt; Stop Server -&gt; Start Server\n",
        "* execute the cell below and stop it before it finishes by ■ button\n",
        "* also try to reset kernel and restart server"
      ]
    },
    {
      "cell_type": "code",
      "metadata": {
        "kernel": "Python 3 (ipykernel)",
        "nbgrader": {
          "grade": false,
          "grade_id": "c-010",
          "locked": false,
          "schema_version": 3,
          "solution": false,
          "task": false
        }
      },
      "source": [
        "import time\n",
        "time.sleep(20.0)"
      ],
      "execution_count": null,
      "outputs": []
    },
    {
      "cell_type": "markdown",
      "metadata": {
        "kernel": "SoS",
        "nbgrader": {
          "grade": false,
          "grade_id": "c-011",
          "locked": true,
          "schema_version": 3,
          "solution": false,
          "task": false
        }
      },
      "source": [
        "## 1-3. bash",
        "\n",
        "* 下のセルはbash (Linuxのコマンドを実行できる)\n",
        "* ただしバグがあって, 出力が正しく出ないことがある(おかしいなと思ったら何度か実行してみてください)\n",
        "<br/>\n",
        "\n",
        "* The cell below is bash, in which you can execute Linux commands\n",
        "* There seems a bug that misses outputs.  Repeat executing several times when the output is suspicious.\n",
        ""
      ]
    },
    {
      "cell_type": "code",
      "metadata": {
        "kernel": "Bash",
        "nbgrader": {
          "grade": false,
          "grade_id": "c-012",
          "locked": false,
          "schema_version": 3,
          "solution": false,
          "task": false
        }
      },
      "source": [
        "# 表示されなかったらもう一回実行\n",
        "# if the result is not displayed, execute it again\n",
        "pwd"
      ],
      "execution_count": null,
      "outputs": []
    },
    {
      "cell_type": "code",
      "metadata": {
        "kernel": "Bash",
        "nbgrader": {
          "grade": false,
          "grade_id": "c-013",
          "locked": false,
          "schema_version": 3,
          "solution": false,
          "task": false
        }
      },
      "source": [
        "ls"
      ],
      "execution_count": null,
      "outputs": []
    },
    {
      "cell_type": "markdown",
      "metadata": {
        "kernel": "SoS",
        "nbgrader": {
          "grade": false,
          "grade_id": "c-014",
          "locked": true,
          "schema_version": 3,
          "solution": false,
          "task": false
        }
      },
      "source": [
        "## 1-4. text (markdown)",
        "\n",
        "* コードではなくテキスト(マークダウン形式)を書くためのセル\n",
        "* there are cells for ordinary texts (markdown format), not code\n",
        ""
      ]
    },
    {
      "cell_type": "markdown",
      "metadata": {
        "kernel": "SoS",
        "nbgrader": {
          "grade": false,
          "grade_id": "c-015",
          "locked": false,
          "schema_version": 3,
          "solution": false,
          "task": false
        }
      },
      "source": [
        "* ここをダブルクリックして編集してみよ\n",
        "  * 編集し終えたらSHIFT-ENTERで保存\n",
        "* double-click this cell and edit\n",
        "  * after done, press SHIFT-ENTER to save"
      ]
    },
    {
      "cell_type": "markdown",
      "metadata": {
        "kernel": "SoS",
        "nbgrader": {
          "grade": false,
          "grade_id": "c-016",
          "locked": true,
          "schema_version": 3,
          "solution": false,
          "task": false
        }
      },
      "source": [
        "\n",
        "# 2. Jupyter 端末環境 / Jupyter Terminals",
        "\n",
        "* Jupyterの典型的な環境はこのようなページ(ノートブック)にプログラムを書いてそれを実行するというものだが, 自分でコマンドを打ち込んで実行できる環境(端末)も用意されている\n",
        "* メニュー直下の「+」アイコンをクリックしてlauncherを表示\n",
        "* Terminal を選ぶとコマンドラインが開く\n",
        "* 使いたくなるかも知れない場面\n",
        "  * man pageを閲覧する\n",
        "  * 暴走して, ■ボタンを押しても止まらないプログラムを kill コマンドで殺す\n",
        "<br/>\n",
        "\n",
        "* A typical Jupyter environment executes programs in a page like this (notebook).  There is, however, an environment you type arbitrary commands (terminal)\n",
        "* click the \"+\" icon right below the menu to show the launcher page\n",
        "* select \"Terminal\" to open the command line terminal\n",
        "* some circumstances in which you want to use it\n",
        "  * you browse a man page\n",
        "  * use kill command to terminate a program that does not stop with ■ button"
      ]
    },
    {
      "cell_type": "markdown",
      "metadata": {
        "kernel": "SoS",
        "nbgrader": {
          "grade": false,
          "grade_id": "c-017",
          "locked": true,
          "schema_version": 3,
          "solution": false,
          "task": false
        }
      },
      "source": [
        "\n",
        "# 3. SSH でログイン / Login with SSH",
        "\n",
        "* ただしそれをやりたいなら SSH ログインをマスターする方がきっと良い\n",
        "* 今すぐ必要ではないが後の週の課題で必要になる\n",
        "* SSHログインのやり方は, [Jupyter環境の使い方](https://taura.github.io/operating-systems/html/jupyter.html)を参照\n",
        "<br/>\n",
        "\n",
        "* to do them, however, you probably want to master SSH login described below instead\n",
        "* you don't have to do this immediately, but need it in later assignments\n",
        "* see [How to access Jupyter environment](https://taura.github.io/operating-systems/html/jupyter.html?lang=en) for how to set up SSH"
      ]
    }
  ],
  "metadata": {
    "celltoolbar": "Create Assignment",
    "kernelspec": {
      "display_name": "SoS",
      "language": "sos",
      "name": "sos"
    },
    "language_info": {
      "codemirror_mode": "sos",
      "file_extension": ".sos",
      "mimetype": "text/x-sos",
      "name": "sos",
      "nbconvert_exporter": "sos_notebook.converter.SoS_Exporter",
      "pygments_lexer": "sos"
    },
    "sos": {
      "kernels": [
        [
          "Bash",
          "bash",
          "bash",
          "",
          "shell"
        ],
        [
          "C",
          "c_kernel",
          "c",
          "",
          ""
        ],
        [
          "Go",
          "gophernotes",
          "go",
          "",
          ""
        ],
        [
          "Julia 1.8.5",
          "julia-1.8",
          "julia",
          "",
          ""
        ],
        [
          "OCaml default",
          "ocaml-jupyter",
          "OCaml",
          "",
          "text/x-ocaml"
        ],
        [
          "Python 3 (ipykernel)",
          "python3",
          "python3",
          "",
          {
            "name": "ipython",
            "version": 3
          }
        ],
        [
          "Rust",
          "rust",
          "rust",
          "",
          ""
        ]
      ],
      "panel": {
        "displayed": true,
        "height": 0
      },
      "version": "0.23.3"
    }
  },
  "nbformat": 4,
  "nbformat_minor": 4
}